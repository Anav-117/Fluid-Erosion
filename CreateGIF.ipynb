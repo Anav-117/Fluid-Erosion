{
 "cells": [
  {
   "cell_type": "code",
   "execution_count": 1,
   "id": "2f3084ee",
   "metadata": {},
   "outputs": [],
   "source": [
    "import numpy as np\n",
    "from PIL import Image, ImageDraw\n",
    "import glob"
   ]
  },
  {
   "cell_type": "code",
   "execution_count": 2,
   "id": "88e420ed",
   "metadata": {
    "scrolled": true
   },
   "outputs": [
    {
     "name": "stdout",
     "output_type": "stream",
     "text": [
      "0\n",
      "1\n",
      "2\n",
      "3\n",
      "4\n",
      "5\n",
      "6\n",
      "7\n",
      "8\n",
      "9\n",
      "10\n",
      "11\n",
      "12\n",
      "13\n",
      "14\n",
      "15\n",
      "16\n",
      "17\n",
      "18\n",
      "19\n",
      "20\n",
      "21\n",
      "22\n",
      "23\n",
      "24\n",
      "25\n",
      "26\n",
      "27\n",
      "28\n",
      "29\n",
      "30\n",
      "31\n",
      "32\n",
      "33\n",
      "34\n",
      "35\n",
      "36\n",
      "37\n",
      "38\n",
      "39\n",
      "40\n",
      "41\n",
      "42\n",
      "43\n",
      "44\n",
      "45\n",
      "46\n",
      "47\n",
      "48\n",
      "49\n",
      "50\n",
      "51\n",
      "52\n",
      "53\n",
      "54\n",
      "55\n",
      "56\n",
      "57\n",
      "58\n",
      "59\n",
      "60\n"
     ]
    }
   ],
   "source": [
    "frames = []\n",
    "for i in range(0, 61):\n",
    "    with open(\"./images/Image\" + str(i) + \".ppm\", 'r') as ppm:\n",
    "        print(i)\n",
    "        data = ppm.read()\n",
    "        values = data.split()\n",
    "        values = values[4:]\n",
    "        img = np.array(values).astype(np.uint8)\n",
    "        img = np.reshape(img, (799, 1200, 3))\n",
    "        frames.append(img)\n",
    "        i+=1"
   ]
  },
  {
   "cell_type": "code",
   "execution_count": 4,
   "id": "24359d1a",
   "metadata": {},
   "outputs": [],
   "source": [
    "frame_images = []\n",
    "for i in frames:\n",
    "    frame_images.append(Image.fromarray(i))"
   ]
  },
  {
   "cell_type": "code",
   "execution_count": 6,
   "id": "2e9d5b2f",
   "metadata": {},
   "outputs": [],
   "source": [
    "frame_one = frame_images[0]\n",
    "frame_one.save(\"output.gif\", format=\"GIF\", append_images=frame_images, save_all=True, duration=100, loop=0)"
   ]
  },
  {
   "cell_type": "code",
   "execution_count": null,
   "id": "7c66aad3",
   "metadata": {},
   "outputs": [],
   "source": []
  }
 ],
 "metadata": {
  "kernelspec": {
   "display_name": "Python 3",
   "language": "python",
   "name": "python3"
  },
  "language_info": {
   "codemirror_mode": {
    "name": "ipython",
    "version": 3
   },
   "file_extension": ".py",
   "mimetype": "text/x-python",
   "name": "python",
   "nbconvert_exporter": "python",
   "pygments_lexer": "ipython3",
   "version": "3.8.8"
  }
 },
 "nbformat": 4,
 "nbformat_minor": 5
}
