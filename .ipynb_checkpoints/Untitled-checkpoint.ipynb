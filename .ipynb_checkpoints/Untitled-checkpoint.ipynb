{
 "cells": [
  {
   "cell_type": "code",
   "execution_count": 62,
   "id": "dcfaebcc",
   "metadata": {},
   "outputs": [],
   "source": [
    "import numpy as np\n",
    "from PIL import Image, ImageDraw\n",
    "import glob"
   ]
  },
  {
   "cell_type": "code",
   "execution_count": 57,
   "id": "46acf47a",
   "metadata": {},
   "outputs": [],
   "source": [
    "video1 = cv2.VideoWriter('output.avi', -1, 20.0, (1200, 799))"
   ]
  },
  {
   "cell_type": "code",
   "execution_count": 64,
   "id": "151d85c2",
   "metadata": {
    "scrolled": true
   },
   "outputs": [
    {
     "name": "stdout",
     "output_type": "stream",
     "text": [
      "images\\Image0.ppm\n",
      "images\\Image1.ppm\n",
      "images\\Image10.ppm\n",
      "images\\Image100.ppm\n",
      "images\\Image1000.ppm\n",
      "images\\Image1001.ppm\n",
      "images\\Image1002.ppm\n",
      "images\\Image1003.ppm\n",
      "images\\Image101.ppm\n",
      "images\\Image102.ppm\n",
      "images\\Image103.ppm\n",
      "images\\Image104.ppm\n",
      "images\\Image105.ppm\n",
      "images\\Image106.ppm\n",
      "images\\Image107.ppm\n",
      "images\\Image108.ppm\n",
      "images\\Image109.ppm\n",
      "images\\Image11.ppm\n",
      "images\\Image110.ppm\n",
      "images\\Image111.ppm\n",
      "images\\Image112.ppm\n",
      "images\\Image113.ppm\n",
      "images\\Image114.ppm\n",
      "images\\Image115.ppm\n",
      "images\\Image116.ppm\n",
      "images\\Image117.ppm\n",
      "images\\Image118.ppm\n",
      "images\\Image119.ppm\n",
      "images\\Image12.ppm\n",
      "images\\Image120.ppm\n",
      "images\\Image121.ppm\n",
      "images\\Image122.ppm\n",
      "images\\Image123.ppm\n",
      "images\\Image124.ppm\n",
      "images\\Image125.ppm\n",
      "images\\Image126.ppm\n",
      "images\\Image127.ppm\n",
      "images\\Image128.ppm\n",
      "images\\Image129.ppm\n",
      "images\\Image13.ppm\n",
      "images\\Image130.ppm\n",
      "images\\Image131.ppm\n",
      "images\\Image132.ppm\n",
      "images\\Image133.ppm\n",
      "images\\Image134.ppm\n",
      "images\\Image135.ppm\n",
      "images\\Image136.ppm\n",
      "images\\Image137.ppm\n",
      "images\\Image138.ppm\n",
      "images\\Image139.ppm\n",
      "images\\Image14.ppm\n",
      "images\\Image140.ppm\n",
      "images\\Image141.ppm\n",
      "images\\Image142.ppm\n",
      "images\\Image143.ppm\n",
      "images\\Image144.ppm\n",
      "images\\Image145.ppm\n",
      "images\\Image146.ppm\n",
      "images\\Image147.ppm\n",
      "images\\Image148.ppm\n",
      "images\\Image149.ppm\n",
      "images\\Image15.ppm\n",
      "images\\Image150.ppm\n",
      "images\\Image151.ppm\n",
      "images\\Image152.ppm\n",
      "images\\Image153.ppm\n",
      "images\\Image154.ppm\n",
      "images\\Image155.ppm\n",
      "images\\Image156.ppm\n",
      "images\\Image157.ppm\n",
      "images\\Image158.ppm\n",
      "images\\Image159.ppm\n",
      "images\\Image16.ppm\n",
      "images\\Image160.ppm\n",
      "images\\Image161.ppm\n",
      "images\\Image162.ppm\n",
      "images\\Image163.ppm\n",
      "images\\Image164.ppm\n",
      "images\\Image165.ppm\n",
      "images\\Image166.ppm\n",
      "images\\Image167.ppm\n",
      "images\\Image168.ppm\n",
      "images\\Image169.ppm\n",
      "images\\Image17.ppm\n",
      "images\\Image170.ppm\n",
      "images\\Image171.ppm\n",
      "images\\Image172.ppm\n",
      "images\\Image173.ppm\n",
      "images\\Image174.ppm\n",
      "images\\Image175.ppm\n",
      "images\\Image176.ppm\n",
      "images\\Image177.ppm\n",
      "images\\Image178.ppm\n",
      "images\\Image179.ppm\n",
      "images\\Image18.ppm\n",
      "images\\Image180.ppm\n",
      "images\\Image181.ppm\n",
      "images\\Image182.ppm\n",
      "images\\Image183.ppm\n",
      "images\\Image184.ppm\n",
      "images\\Image185.ppm\n"
     ]
    }
   ],
   "source": [
    "frames = []\n",
    "for i in range(0, 1001):\n",
    "    with open(\"./images/Image\" + str(i) + \".ppm\", 'r') as ppm:\n",
    "        print(i)\n",
    "        data = ppm.read()\n",
    "        values = data.split()\n",
    "        values = values[4:]\n",
    "        img = np.array(values).astype(np.uint8)\n",
    "        img = np.reshape(img, (799, 1200, 3))\n",
    "        frames.append(img)\n",
    "        i+=1\n",
    "        if (i > 100) :\n",
    "            break"
   ]
  },
  {
   "cell_type": "code",
   "execution_count": 72,
   "id": "6fdc72c6",
   "metadata": {},
   "outputs": [
    {
     "ename": "AttributeError",
     "evalue": "'numpy.ndarray' object has no attribute 'convert'",
     "output_type": "error",
     "traceback": [
      "\u001b[1;31m---------------------------------------------------------------------------\u001b[0m",
      "\u001b[1;31mAttributeError\u001b[0m                            Traceback (most recent call last)",
      "\u001b[1;32m<ipython-input-72-2a65a24bfc49>\u001b[0m in \u001b[0;36m<module>\u001b[1;34m\u001b[0m\n\u001b[1;32m----> 1\u001b[1;33m \u001b[0mframes\u001b[0m \u001b[1;33m=\u001b[0m \u001b[0mnp\u001b[0m\u001b[1;33m.\u001b[0m\u001b[0marray\u001b[0m\u001b[1;33m(\u001b[0m\u001b[0mframes\u001b[0m\u001b[1;33m)\u001b[0m\u001b[1;33m.\u001b[0m\u001b[0mastype\u001b[0m\u001b[1;33m(\u001b[0m\u001b[0mnp\u001b[0m\u001b[1;33m.\u001b[0m\u001b[0muint8\u001b[0m\u001b[1;33m)\u001b[0m\u001b[1;33m.\u001b[0m\u001b[0mconvert\u001b[0m\u001b[1;33m(\u001b[0m\u001b[1;34m'RGB'\u001b[0m\u001b[1;33m)\u001b[0m\u001b[1;33m\u001b[0m\u001b[1;33m\u001b[0m\u001b[0m\n\u001b[0m\u001b[0;32m      2\u001b[0m \u001b[0mframes\u001b[0m \u001b[1;33m=\u001b[0m \u001b[0mImage\u001b[0m\u001b[1;33m.\u001b[0m\u001b[0mfromarray\u001b[0m\u001b[1;33m(\u001b[0m\u001b[0mframes\u001b[0m\u001b[1;33m)\u001b[0m\u001b[1;33m\u001b[0m\u001b[1;33m\u001b[0m\u001b[0m\n\u001b[0;32m      3\u001b[0m \u001b[0mframe_one\u001b[0m \u001b[1;33m=\u001b[0m \u001b[0mframes\u001b[0m\u001b[1;33m[\u001b[0m\u001b[1;36m0\u001b[0m\u001b[1;33m]\u001b[0m\u001b[1;33m\u001b[0m\u001b[1;33m\u001b[0m\u001b[0m\n\u001b[0;32m      4\u001b[0m \u001b[0mframe_one\u001b[0m\u001b[1;33m.\u001b[0m\u001b[0msave\u001b[0m\u001b[1;33m(\u001b[0m\u001b[1;34m\"output.gif\"\u001b[0m\u001b[1;33m,\u001b[0m \u001b[0mformat\u001b[0m\u001b[1;33m=\u001b[0m\u001b[1;34m\"GIF\"\u001b[0m\u001b[1;33m,\u001b[0m \u001b[0mappend_images\u001b[0m\u001b[1;33m=\u001b[0m\u001b[0mframes\u001b[0m\u001b[1;33m,\u001b[0m \u001b[0msave_all\u001b[0m\u001b[1;33m=\u001b[0m\u001b[1;32mTrue\u001b[0m\u001b[1;33m,\u001b[0m \u001b[0mduration\u001b[0m\u001b[1;33m=\u001b[0m\u001b[1;36m100\u001b[0m\u001b[1;33m,\u001b[0m \u001b[0mloop\u001b[0m\u001b[1;33m=\u001b[0m\u001b[1;36m0\u001b[0m\u001b[1;33m)\u001b[0m\u001b[1;33m\u001b[0m\u001b[1;33m\u001b[0m\u001b[0m\n",
      "\u001b[1;31mAttributeError\u001b[0m: 'numpy.ndarray' object has no attribute 'convert'"
     ]
    }
   ],
   "source": [
    "frames = np.array(frames).astype(np.uint8)\n",
    "frames = Image.fromarray(frames)\n",
    "frame_one = frames[0]\n",
    "frame_one.save(\"output.gif\", format=\"GIF\", append_images=frames, save_all=True, duration=100, loop=0)"
   ]
  },
  {
   "cell_type": "code",
   "execution_count": 36,
   "id": "7da7dd41",
   "metadata": {},
   "outputs": [
    {
     "name": "stdout",
     "output_type": "stream",
     "text": [
      "[[[0 0 0]\n",
      "  [0 0 0]\n",
      "  [0 0 0]]\n",
      "\n",
      " [[0 0 0]\n",
      "  [0 0 0]\n",
      "  [0 0 0]]]\n"
     ]
    }
   ],
   "source": [
    "testImage = np.array([0, 0, 0, 0, 0, 0, 0, 0, 0, 0, 0, 0, 0, 0, 0, 0, 0, 0])\n",
    "\n",
    "testImage = np.reshape(testImage, (2, 3, 3))\n",
    "\n",
    "print(testImage)"
   ]
  },
  {
   "cell_type": "code",
   "execution_count": null,
   "id": "2ef71d14",
   "metadata": {},
   "outputs": [],
   "source": []
  }
 ],
 "metadata": {
  "kernelspec": {
   "display_name": "Python 3",
   "language": "python",
   "name": "python3"
  },
  "language_info": {
   "codemirror_mode": {
    "name": "ipython",
    "version": 3
   },
   "file_extension": ".py",
   "mimetype": "text/x-python",
   "name": "python",
   "nbconvert_exporter": "python",
   "pygments_lexer": "ipython3",
   "version": "3.8.8"
  }
 },
 "nbformat": 4,
 "nbformat_minor": 5
}
